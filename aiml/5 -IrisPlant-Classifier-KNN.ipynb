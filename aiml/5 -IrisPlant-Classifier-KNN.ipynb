{
 "cells": [
  {
   "cell_type": "code",
   "execution_count": 1,
   "metadata": {},
   "outputs": [
    {
     "name": "stdout",
     "output_type": "stream",
     "text": [
      "<class 'sklearn.utils.Bunch'>\n"
     ]
    }
   ],
   "source": [
    "from sklearn.datasets import load_iris\n",
    "iris_data = load_iris()\n",
    "print(type(iris_data))"
   ]
  },
  {
   "cell_type": "code",
   "execution_count": 2,
   "metadata": {},
   "outputs": [
    {
     "name": "stdout",
     "output_type": "stream",
     "text": [
      "dict_keys(['data', 'target', 'frame', 'target_names', 'DESCR', 'feature_names', 'filename'])\n"
     ]
    }
   ],
   "source": [
    "print(iris_data.keys())"
   ]
  },
  {
   "cell_type": "code",
   "execution_count": 3,
   "metadata": {},
   "outputs": [
    {
     "name": "stdout",
     "output_type": "stream",
     "text": [
      ".. _iris_dataset:\n",
      "\n",
      "Iris plants dataset\n",
      "--------------------\n",
      "\n",
      "**Data Set Characteristics:**\n",
      "\n",
      "    :Number of Instances: 150 (50 in each of three classes)\n",
      "    :Number of Attributes: 4 numeric, predictive attributes and the class\n",
      "    :Attribute Information:\n",
      "        - sepal length in cm\n",
      "        - sepal width in cm\n",
      "        - petal length in cm\n",
      "        - petal width in cm\n",
      "        - class:\n",
      "                - Iris-Setosa\n",
      "                - Iris-Versicolour\n",
      "                - Iris-Virginica\n",
      "                \n",
      "    :Summary Statistics:\n",
      "\n",
      "    ============== ==== ==== ======= ===== ====================\n",
      "                    Min  Max   Mean    SD   Class Correlation\n",
      "    ============== ==== ==== ======= ===== ====================\n",
      "    sepal length:   4.3  7.9   5.84   0.83    0.7826\n",
      "    sepal width:    2.0  4.4   3.05   0.43   -0.4194\n",
      "    petal length:   1.0  6.9   3.76   1.76    0.9490  (high!)\n",
      "    petal width:    0.1  2.5   1.20   0.76    0.9565  (high!)\n",
      "    ============== ==== ==== ======= ===== ====================\n",
      "\n",
      "    :Missing Attribute Values: None\n",
      "    :Class Distribution: 33.3% for each of 3 classes.\n",
      "    :Creator: R.A. Fisher\n",
      "    :Donor: Michael Marshall (MARSHALL%PLU@io.arc.nasa.gov)\n",
      "    :Date: July, 1988\n",
      "\n",
      "The famous Iris database, first used by Sir R.A. Fisher. The dataset is taken\n",
      "from Fisher's paper. Note that it's the same as in R, but not as in the UCI\n",
      "Machine Learning Repository, which has two wrong data points.\n",
      "\n",
      "This is perhaps the best known database to be found in the\n",
      "pattern recognition literature.  Fisher's paper is a classic in the field and\n",
      "is referenced frequently to this day.  (See Duda & Hart, for example.)  The\n",
      "data set contains 3 classes of 50 instances each, where each class refers to a\n",
      "type of iris plant.  One class is linearly separable from the other 2; the\n",
      "latter are NOT linearly separable from each other.\n",
      "\n",
      ".. topic:: References\n",
      "\n",
      "   - Fisher, R.A. \"The use of multiple measurements in taxonomic problems\"\n",
      "     Annual Eugenics, 7, Part II, 179-188 (1936); also in \"Contributions to\n",
      "     Mathematical Statistics\" (John Wiley, NY, 1950).\n",
      "   - Duda, R.O., & Hart, P.E. (1973) Pattern Classification and Scene Analysis.\n",
      "     (Q327.D83) John Wiley & Sons.  ISBN 0-471-22361-1.  See page 218.\n",
      "   - Dasarathy, B.V. (1980) \"Nosing Around the Neighborhood: A New System\n",
      "     Structure and Classification Rule for Recognition in Partially Exposed\n",
      "     Environments\".  IEEE Transactions on Pattern Analysis and Machine\n",
      "     Intelligence, Vol. PAMI-2, No. 1, 67-71.\n",
      "   - Gates, G.W. (1972) \"The Reduced Nearest Neighbor Rule\".  IEEE Transactions\n",
      "     on Information Theory, May 1972, 431-433.\n",
      "   - See also: 1988 MLC Proceedings, 54-64.  Cheeseman et al\"s AUTOCLASS II\n",
      "     conceptual clustering system finds 3 classes in the data.\n",
      "   - Many, many more ...\n"
     ]
    }
   ],
   "source": [
    "print(iris_data.DESCR)"
   ]
  },
  {
   "cell_type": "code",
   "execution_count": 4,
   "metadata": {},
   "outputs": [
    {
     "name": "stdout",
     "output_type": "stream",
     "text": [
      "<class 'numpy.ndarray'>\n",
      "(150, 4)\n",
      "(150,)\n"
     ]
    }
   ],
   "source": [
    "print(type(iris_data.data))\n",
    "print(iris_data.data.shape)\n",
    "print(iris_data.target.shape)"
   ]
  },
  {
   "cell_type": "code",
   "execution_count": 5,
   "metadata": {},
   "outputs": [
    {
     "name": "stdout",
     "output_type": "stream",
     "text": [
      "[5.1 3.5 1.4 0.2]\n",
      "[0 0 0 0 0]\n"
     ]
    }
   ],
   "source": [
    "print(iris_data.data[0])\n",
    "print(iris_data.target[0:5])"
   ]
  },
  {
   "cell_type": "code",
   "execution_count": 6,
   "metadata": {},
   "outputs": [
    {
     "name": "stdout",
     "output_type": "stream",
     "text": [
      "(105, 4) (105,) (45, 4) (45,)\n"
     ]
    }
   ],
   "source": [
    "from sklearn.model_selection import train_test_split\n",
    "X_train, X_test, y_train, y_test = train_test_split(iris_data.data, iris_data.target, test_size=0.30)\n",
    "print(X_train.shape, y_train.shape, X_test.shape, y_test.shape)\n"
   ]
  },
  {
   "cell_type": "code",
   "execution_count": 7,
   "metadata": {},
   "outputs": [],
   "source": [
    "from sklearn import linear_model\n",
    "\n",
    "logistic = linear_model.LogisticRegression(solver='lbfgs', max_iter=5000)"
   ]
  },
  {
   "cell_type": "code",
   "execution_count": 8,
   "metadata": {},
   "outputs": [
    {
     "name": "stdout",
     "output_type": "stream",
     "text": [
      "LogisticRegression score:0.9333333333333333\n"
     ]
    }
   ],
   "source": [
    "logistic = logistic.fit(X_train, y_train)\n",
    "score = logistic.score(X_test, y_test)\n",
    "print('LogisticRegression score:{}'.format(score))"
   ]
  },
  {
   "cell_type": "code",
   "execution_count": 9,
   "metadata": {},
   "outputs": [
    {
     "name": "stdout",
     "output_type": "stream",
     "text": [
      "[0 1 2 1 0 0 1 2 0 1 2 2 2 2 1 1 0 0 2 1 2 0 1 2 2 0 2 2 0 0 0 1 0 1 2 2 1\n",
      " 0 1 1 0 2 2 2 0]\n"
     ]
    }
   ],
   "source": [
    "ypred_test= logistic.predict(X_test)\n",
    "print(ypred_test)"
   ]
  },
  {
   "cell_type": "code",
   "execution_count": 10,
   "metadata": {},
   "outputs": [
    {
     "name": "stdout",
     "output_type": "stream",
     "text": [
      "[0 1 2 2 0 0 2 2 0 1 2 2 2 2 1 1 0 0 2 2 2 0 1 2 2 0 2 2 0 0 0 1 0 1 2 2 1\n",
      " 0 1 1 0 2 2 2 0]\n"
     ]
    }
   ],
   "source": [
    "print(y_test)"
   ]
  },
  {
   "cell_type": "code",
   "execution_count": 11,
   "metadata": {},
   "outputs": [
    {
     "name": "stdout",
     "output_type": "stream",
     "text": [
      "3 2 1\n",
      "6 2 1\n",
      "19 2 1\n"
     ]
    }
   ],
   "source": [
    "for i in range(len(y_test)):\n",
    "    if (y_test[i] != ypred_test[i]):\n",
    "        print(i, y_test[i], ypred_test[i])"
   ]
  },
  {
   "cell_type": "code",
   "execution_count": 12,
   "metadata": {},
   "outputs": [
    {
     "name": "stdout",
     "output_type": "stream",
     "text": [
      "classes [0 1 2]\n",
      "Total feature weights (3, 4)\n",
      "Total Bias weights (3,)\n",
      "Total iterations [107]\n"
     ]
    }
   ],
   "source": [
    "print(\"classes\", logistic.classes_)\n",
    "print(\"Total feature weights\", logistic.coef_.shape)\n",
    "print(\"Total Bias weights\", logistic.intercept_.shape) \n",
    "print(\"Total iterations\", logistic.n_iter_) "
   ]
  },
  {
   "cell_type": "code",
   "execution_count": 13,
   "metadata": {},
   "outputs": [
    {
     "name": "stdout",
     "output_type": "stream",
     "text": [
      "[[ -0.02425104  -3.73140856 -15.07159088]\n",
      " [ -5.86302113  -0.16564334  -1.89839441]]\n",
      "[[9.76040651e-01 2.39590643e-02 2.84768041e-07]\n",
      " [2.84264271e-03 8.47348399e-01 1.49808959e-01]]\n"
     ]
    }
   ],
   "source": [
    "ypred_logproba= logistic.predict_log_proba(X_test[0:2])\n",
    "print(ypred_logproba)\n",
    "ypred_proba= logistic.predict_proba(X_test[0:2])\n",
    "print(ypred_proba)"
   ]
  },
  {
   "cell_type": "code",
   "execution_count": 14,
   "metadata": {},
   "outputs": [
    {
     "name": "stdout",
     "output_type": "stream",
     "text": [
      "Knn with K =3 train score:0.9619047619047619\n",
      "Knn with K =3 test score:0.9555555555555556\n"
     ]
    }
   ],
   "source": [
    "#KNN\n",
    "from sklearn.neighbors import KNeighborsClassifier\n",
    "\n",
    "neigh = KNeighborsClassifier(n_neighbors=3)\n",
    "neigh.fit(X_train, y_train)\n",
    "train_score = neigh.score(X_train, y_train)\n",
    "test_score = neigh.score(X_test, y_test)\n",
    "print('Knn with K =3 train score:{}'.format(train_score))\n",
    "print('Knn with K =3 test score:{}'.format(test_score))"
   ]
  },
  {
   "cell_type": "code",
   "execution_count": 15,
   "metadata": {},
   "outputs": [
    {
     "data": {
      "text/plain": [
       "(array([[0.14142136, 0.24494897, 0.24494897],\n",
       "        [0.26457513, 0.33166248, 0.45825757],\n",
       "        [0.41231056, 0.93273791, 1.02469508],\n",
       "        [0.17320508, 0.24494897, 0.28284271],\n",
       "        [0.2       , 0.3       , 0.3       ],\n",
       "        [0.14142136, 0.24494897, 0.26457513],\n",
       "        [0.33166248, 0.36055513, 0.37416574],\n",
       "        [0.55677644, 0.6164414 , 0.6244998 ],\n",
       "        [0.1       , 0.14142136, 0.14142136],\n",
       "        [0.26457513, 0.50990195, 0.71414284],\n",
       "        [0.53851648, 0.66332496, 0.678233  ],\n",
       "        [0.41231056, 0.60827625, 0.678233  ],\n",
       "        [0.37416574, 0.37416574, 0.38729833],\n",
       "        [0.34641016, 0.37416574, 0.38729833],\n",
       "        [0.24494897, 0.31622777, 0.31622777],\n",
       "        [0.31622777, 0.37416574, 0.37416574],\n",
       "        [0.28284271, 0.3       , 0.3       ],\n",
       "        [0.34641016, 0.36055513, 0.38729833],\n",
       "        [0.48989795, 0.50990195, 0.50990195],\n",
       "        [0.43588989, 0.51961524, 0.58309519],\n",
       "        [0.42426407, 0.5       , 0.51961524],\n",
       "        [0.14142136, 0.17320508, 0.2236068 ],\n",
       "        [0.17320508, 0.17320508, 0.2236068 ],\n",
       "        [0.14142136, 0.24494897, 0.36055513],\n",
       "        [0.24494897, 0.4       , 0.47958315],\n",
       "        [0.6244998 , 0.71414284, 0.76811457],\n",
       "        [0.31622777, 0.34641016, 0.38729833],\n",
       "        [0.26457513, 0.3       , 0.36055513],\n",
       "        [0.33166248, 0.34641016, 0.36055513],\n",
       "        [0.41231056, 0.54772256, 0.55677644],\n",
       "        [0.24494897, 0.31622777, 0.34641016],\n",
       "        [0.26457513, 0.42426407, 0.42426407],\n",
       "        [0.1       , 0.2       , 0.2       ],\n",
       "        [0.3       , 0.31622777, 0.33166248],\n",
       "        [0.1       , 0.31622777, 0.33166248],\n",
       "        [0.17320508, 0.36055513, 0.36055513],\n",
       "        [0.14142136, 0.31622777, 0.34641016],\n",
       "        [0.14142136, 0.17320508, 0.17320508],\n",
       "        [0.2       , 0.24494897, 0.33166248],\n",
       "        [0.2236068 , 0.3       , 0.43588989],\n",
       "        [0.2236068 , 0.2236068 , 0.28284271],\n",
       "        [0.6       , 0.6164414 , 0.66332496],\n",
       "        [0.52915026, 0.54772256, 0.60827625],\n",
       "        [0.26457513, 0.26457513, 0.33166248],\n",
       "        [0.14142136, 0.14142136, 0.17320508]]),\n",
       " array([[ 89,  95,  46],\n",
       "        [ 97,  36,  55],\n",
       "        [ 45,  48,  81],\n",
       "        [ 19,  41,  88],\n",
       "        [ 68,  76,  44],\n",
       "        [ 99,  58,  27],\n",
       "        [ 47,  26,  19],\n",
       "        [ 93,  78,  29],\n",
       "        [ 27,  58,  31],\n",
       "        [ 22,  26,   1],\n",
       "        [  2,  98,  14],\n",
       "        [ 61,  14,   2],\n",
       "        [ 42,  93,  78],\n",
       "        [ 78,   1,  18],\n",
       "        [ 59,  55,  36],\n",
       "        [ 59,  55,  36],\n",
       "        [ 82,  64,  31],\n",
       "        [ 43,  94,  73],\n",
       "        [ 49,  87,  79],\n",
       "        [ 26,  47,   1],\n",
       "        [ 66,  29,  25],\n",
       "        [ 39,  68,  40],\n",
       "        [ 12,  74,   0],\n",
       "        [ 91,  18,  78],\n",
       "        [ 29,  25,  52],\n",
       "        [  5,  67,  76],\n",
       "        [ 25,  29,  52],\n",
       "        [ 29,  25,  50],\n",
       "        [ 15,  43,  94],\n",
       "        [ 73,   8,  15],\n",
       "        [ 67,  85,   5],\n",
       "        [ 80,  12,  63],\n",
       "        [ 68,  76,  44],\n",
       "        [ 57,  12,  80],\n",
       "        [ 10,  52,  18],\n",
       "        [ 50,  42, 102],\n",
       "        [ 59,  36,  13],\n",
       "        [ 46,  58,  99],\n",
       "        [ 77,   9,  54],\n",
       "        [  9,  77,  71],\n",
       "        [ 39,  27,   3],\n",
       "        [ 18,  10,  50],\n",
       "        [ 14,  61,   2],\n",
       "        [ 79,  87,  49],\n",
       "        [ 76,  44,  68]], dtype=int64))"
      ]
     },
     "execution_count": 15,
     "metadata": {},
     "output_type": "execute_result"
    }
   ],
   "source": [
    "neigh.kneighbors(X_test)"
   ]
  },
  {
   "cell_type": "code",
   "execution_count": 16,
   "metadata": {},
   "outputs": [
    {
     "data": {
      "text/plain": [
       "array([[0.        , 0.        , 0.        , 0.        , 0.        ,\n",
       "        0.        , 0.        , 0.        , 0.        , 0.        ,\n",
       "        0.        , 0.        , 0.        , 0.        , 0.        ,\n",
       "        0.        , 0.        , 0.        , 0.        , 0.        ,\n",
       "        0.        , 0.        , 0.        , 0.        , 0.        ,\n",
       "        0.        , 0.        , 0.        , 0.        , 0.        ,\n",
       "        0.        , 0.        , 0.        , 0.        , 0.        ,\n",
       "        0.        , 0.        , 0.        , 0.        , 0.        ,\n",
       "        0.        , 0.        , 0.        , 0.        , 0.        ,\n",
       "        0.        , 0.24494897, 0.        , 0.        , 0.        ,\n",
       "        0.        , 0.        , 0.        , 0.        , 0.        ,\n",
       "        0.        , 0.        , 0.        , 0.        , 0.        ,\n",
       "        0.        , 0.        , 0.        , 0.        , 0.        ,\n",
       "        0.        , 0.        , 0.        , 0.        , 0.        ,\n",
       "        0.        , 0.        , 0.        , 0.        , 0.        ,\n",
       "        0.        , 0.        , 0.        , 0.        , 0.        ,\n",
       "        0.        , 0.        , 0.        , 0.        , 0.        ,\n",
       "        0.        , 0.        , 0.        , 0.        , 0.14142136,\n",
       "        0.        , 0.        , 0.        , 0.        , 0.        ,\n",
       "        0.24494897, 0.        , 0.        , 0.        , 0.        ,\n",
       "        0.        , 0.        , 0.        , 0.        , 0.        ],\n",
       "       [0.        , 0.        , 0.        , 0.        , 0.        ,\n",
       "        0.        , 0.        , 0.        , 0.        , 0.        ,\n",
       "        0.        , 0.        , 0.        , 0.        , 0.        ,\n",
       "        0.        , 0.        , 0.        , 0.        , 0.        ,\n",
       "        0.        , 0.        , 0.        , 0.        , 0.        ,\n",
       "        0.        , 0.        , 0.        , 0.        , 0.        ,\n",
       "        0.        , 0.        , 0.        , 0.        , 0.        ,\n",
       "        0.        , 0.33166248, 0.        , 0.        , 0.        ,\n",
       "        0.        , 0.        , 0.        , 0.        , 0.        ,\n",
       "        0.        , 0.        , 0.        , 0.        , 0.        ,\n",
       "        0.        , 0.        , 0.        , 0.        , 0.        ,\n",
       "        0.45825757, 0.        , 0.        , 0.        , 0.        ,\n",
       "        0.        , 0.        , 0.        , 0.        , 0.        ,\n",
       "        0.        , 0.        , 0.        , 0.        , 0.        ,\n",
       "        0.        , 0.        , 0.        , 0.        , 0.        ,\n",
       "        0.        , 0.        , 0.        , 0.        , 0.        ,\n",
       "        0.        , 0.        , 0.        , 0.        , 0.        ,\n",
       "        0.        , 0.        , 0.        , 0.        , 0.        ,\n",
       "        0.        , 0.        , 0.        , 0.        , 0.        ,\n",
       "        0.        , 0.        , 0.26457513, 0.        , 0.        ,\n",
       "        0.        , 0.        , 0.        , 0.        , 0.        ],\n",
       "       [0.        , 0.        , 0.        , 0.        , 0.        ,\n",
       "        0.        , 0.        , 0.        , 0.        , 0.        ,\n",
       "        0.        , 0.        , 0.        , 0.        , 0.        ,\n",
       "        0.        , 0.        , 0.        , 0.        , 0.        ,\n",
       "        0.        , 0.        , 0.        , 0.        , 0.        ,\n",
       "        0.        , 0.        , 0.        , 0.        , 0.        ,\n",
       "        0.        , 0.        , 0.        , 0.        , 0.        ,\n",
       "        0.        , 0.        , 0.        , 0.        , 0.        ,\n",
       "        0.        , 0.        , 0.        , 0.        , 0.        ,\n",
       "        0.41231056, 0.        , 0.        , 0.93273791, 0.        ,\n",
       "        0.        , 0.        , 0.        , 0.        , 0.        ,\n",
       "        0.        , 0.        , 0.        , 0.        , 0.        ,\n",
       "        0.        , 0.        , 0.        , 0.        , 0.        ,\n",
       "        0.        , 0.        , 0.        , 0.        , 0.        ,\n",
       "        0.        , 0.        , 0.        , 0.        , 0.        ,\n",
       "        0.        , 0.        , 0.        , 0.        , 0.        ,\n",
       "        0.        , 1.02469508, 0.        , 0.        , 0.        ,\n",
       "        0.        , 0.        , 0.        , 0.        , 0.        ,\n",
       "        0.        , 0.        , 0.        , 0.        , 0.        ,\n",
       "        0.        , 0.        , 0.        , 0.        , 0.        ,\n",
       "        0.        , 0.        , 0.        , 0.        , 0.        ]])"
      ]
     },
     "execution_count": 16,
     "metadata": {},
     "output_type": "execute_result"
    }
   ],
   "source": [
    "neigh.kneighbors_graph(X_test[0:3], mode='distance').toarray()"
   ]
  },
  {
   "cell_type": "code",
   "execution_count": 17,
   "metadata": {},
   "outputs": [
    {
     "name": "stdout",
     "output_type": "stream",
     "text": [
      "Knn with K =3 train score:1.0\n",
      "Knn with K =3 test score:0.9555555555555556\n"
     ]
    }
   ],
   "source": [
    "neigh = KNeighborsClassifier(n_neighbors=3, weights='distance')\n",
    "neigh.fit(X_train, y_train)\n",
    "train_score = neigh.score(X_train, y_train)\n",
    "test_score = neigh.score(X_test, y_test)\n",
    "print('Knn with K =3 train score:{}'.format(train_score))\n",
    "print('Knn with K =3 test score:{}'.format(test_score))\n",
    "    "
   ]
  },
  {
   "cell_type": "code",
   "execution_count": 18,
   "metadata": {},
   "outputs": [
    {
     "name": "stdout",
     "output_type": "stream",
     "text": [
      "Knn with K =3 train score:0.9619047619047619\n",
      "Knn with K =3 test score:0.9555555555555556\n"
     ]
    }
   ],
   "source": [
    "neigh = KNeighborsClassifier(n_neighbors=3, metric = 'manhattan')\n",
    "neigh.fit(X_train, y_train)\n",
    "train_score = neigh.score(X_train, y_train)\n",
    "test_score = neigh.score(X_test, y_test)\n",
    "print('Knn with K =3 train score:{}'.format(train_score))\n",
    "print('Knn with K =3 test score:{}'.format(test_score))\n"
   ]
  },
  {
   "cell_type": "code",
   "execution_count": 19,
   "metadata": {},
   "outputs": [
    {
     "name": "stdout",
     "output_type": "stream",
     "text": [
      "[[15  0  0]\n",
      " [ 0 10  0]\n",
      " [ 0  2 18]]\n"
     ]
    }
   ],
   "source": [
    "from sklearn.metrics import confusion_matrix\n",
    "y_pred = neigh.predict(X_test)\n",
    "y_true = y_test\n",
    "cm = confusion_matrix(y_true, y_pred)\n",
    "print(cm)"
   ]
  },
  {
   "cell_type": "code",
   "execution_count": 20,
   "metadata": {},
   "outputs": [
    {
     "data": {
      "image/png": "[encoded data removed]",
      "text/plain": [
       "<Figure size 432x288 with 2 Axes>"
      ]
     },
     "metadata": {
      "needs_background": "light"
     },
     "output_type": "display_data"
    }
   ],
   "source": [
    "from sklearn.metrics import ConfusionMatrixDisplay\n",
    "cm_display = ConfusionMatrixDisplay(cm).plot()"
   ]
  },
  {
   "cell_type": "code",
   "execution_count": 21,
   "metadata": {},
   "outputs": [
    {
     "name": "stdout",
     "output_type": "stream",
     "text": [
      "              precision    recall  f1-score   support\n",
      "\n",
      "      setosa       1.00      1.00      1.00        15\n",
      "  versicolor       0.83      1.00      0.91        10\n",
      "   virginica       1.00      0.90      0.95        20\n",
      "\n",
      "    accuracy                           0.96        45\n",
      "   macro avg       0.94      0.97      0.95        45\n",
      "weighted avg       0.96      0.96      0.96        45\n",
      "\n"
     ]
    }
   ],
   "source": [
    "from sklearn.metrics import classification_report\n",
    "print(classification_report(y_true, y_pred, target_names=iris_data.target_names))"
   ]
  },
  {
   "cell_type": "code",
   "execution_count": null,
   "metadata": {},
   "outputs": [],
   "source": []
  }
 ],
 "metadata": {
  "kernelspec": {
   "display_name": "Python 3 (ipykernel)",
   "language": "python",
   "name": "python3"
  },
  "language_info": {
   "codemirror_mode": {
    "name": "ipython",
    "version": 3
   },
   "file_extension": ".py",
   "mimetype": "text/x-python",
   "name": "python",
   "nbconvert_exporter": "python",
   "pygments_lexer": "ipython3",
   "version": "3.9.7"
  }
 },
 "nbformat": 4,
 "nbformat_minor": 2
}
